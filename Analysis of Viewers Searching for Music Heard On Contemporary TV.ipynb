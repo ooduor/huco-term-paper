{
 "cells": [
  {
   "cell_type": "markdown",
   "metadata": {},
   "source": [
    "## Antony Owino. Final Paper. 13<sup>th</sup> Dec 2017. Notebook 1.\n",
    "\n",
    "The corpus is a CSV file with 9 TV shows _Supernatural_, _Game of Thrones_, _The Walking Dead_, _Stranger Things_, _Grey's Anatomy_, _Arrow_, _Suits_, _The Originals_, _Pretty Little Liars_.\n",
    "\n",
    "Note: This is the first notebook in analysing the dataset and shows. It should be run prior to any other accompanying notebook since it splits the corpus into shows and seasons as well as does sorting on the columns. There are 5 columns in  the original dataset *New_Query_2017_12_08.csv*: \n",
    "  * Name – Name of the TV Show\n",
    "  * Season – Season number\n",
    "  * id – Database Storage ID number\n",
    "  * date_created – Date the question was posted\n",
    "  * body – The question"
   ]
  },
  {
   "cell_type": "markdown",
   "metadata": {},
   "source": [
    "### Initial Cleanup Activities\n",
    "  * Split the corpus into TV shows – creates directories with the shows datasets\n",
    "  * Split the TV shows into seasons – Exports every season of a show after sorting the contents using the unix timestamp parameter. Only 2 columns are need here (date_created and body)"
   ]
  },
  {
   "cell_type": "code",
   "execution_count": 1,
   "metadata": {
    "collapsed": true
   },
   "outputs": [],
   "source": [
    "import csv, os, errno, shutil\n",
    "from itertools import groupby\n",
    "from operator import itemgetter\n",
    "import pandas as pd\n",
    "import glob\n",
    "\n",
    "# get current directory we are standing on now\n",
    "current_working_dir = os.getcwd()\n",
    "\n",
    "# Everytime this cell is run. Remove all the directories in this directory\n",
    "# since they will be recreated and populated again below\n",
    "for dir_file in os.listdir(current_working_dir):\n",
    "    file_path = os.path.join(current_working_dir, dir_file)\n",
    "    try:\n",
    "         # remove all directories since they will be created afresh below\n",
    "        if os.path.isdir(file_path):\n",
    "            shutil.rmtree(file_path)\n",
    "    except Exception as e:\n",
    "        print(e)\n",
    "\n",
    "# open the original dataset and iterate through it creating\n",
    "# separate datasets of each show\n",
    "with open(\"New_Query_2017_12_08.csv\", \"rt\", encoding='utf8') as main_csv_file:\n",
    "    reader = csv.DictReader(main_csv_file)\n",
    "    for show_name, rows in groupby(reader, itemgetter('Name')):\n",
    "        try:\n",
    "            # create a directory with same name as TV show\n",
    "            os.makedirs(show_name)\n",
    "        except OSError as e:\n",
    "            pass\n",
    "        show_file = os.path.join(show_name, show_name + \".csv\")\n",
    "        file_exists = os.path.isfile(show_file)\n",
    "        with open(show_file, \"a+\") as show_outfile:\n",
    "            writer = csv.DictWriter(show_outfile, reader.fieldnames)\n",
    "            if not file_exists:\n",
    "                writer.writeheader()  # file doesn't exist yet, write a header row\n",
    "            writer.writerows(rows)\n",
    "\n",
    "# initialize an ordered list of TV shows\n",
    "shows = [\"Supernatural\",\n",
    "         \"Game of Thrones\",\n",
    "         \"The Walking Dead\",\n",
    "         \"Stranger Things\",\n",
    "         \"Grey's Anatomy\",\n",
    "         \"Arrow\",\n",
    "         \"Suits\",\n",
    "         \"The Originals\",\n",
    "         \"Pretty Little Liars\"]\n",
    "\n",
    "# split the TV show files further by seasons dropping some of the\n",
    "# columns that are redundant at this level.\n",
    "# Also create CSV file with all the questions of a TV show in chronological\n",
    "# order.\n",
    "for show_name in shows:\n",
    "    show_file = os.path.join(show_name, show_name + \".csv\")\n",
    "    file_exists = os.path.isfile(show_file)\n",
    "    \n",
    "    df = pd.read_csv(show_file)           \n",
    "    keep_body_col = ['date_created', 'body'] # remain with 2 columns only\n",
    "    body_df = df[keep_body_col]\n",
    "    body_df = body_df.sort_values(['date_created'], ascending=[1]) \n",
    "    questions_file = os.path.join(show_name, show_name + \"_questions_only.csv\")\n",
    "    body_df.to_csv(questions_file, index=False)\n",
    "    \n",
    "    with open(show_file, \"rt\", encoding='utf8') as show_csv_file:\n",
    "        seasons_list = []\n",
    "        show_reader = csv.DictReader(show_csv_file)\n",
    "        for season, show_rows in groupby(show_reader, itemgetter('Season')):\n",
    "            season_file = os.path.join(show_name, season + \".csv\")\n",
    "            seasons_list.append(season)\n",
    "            file_exists = os.path.isfile(season_file) \n",
    "            with open(season_file, \"a+\") as season_outfile:\n",
    "                season_writer = csv.DictWriter(season_outfile, show_reader.fieldnames)\n",
    "                if not file_exists:\n",
    "                    season_writer.writeheader()  # file doesn't exist yet, write a header\n",
    "\n",
    "                # toss show name and season columns, i.e. r[0] and r[1]\n",
    "                # rewritten_show_rows = list((sr[2], sr[3], sr[4]) for sr in show_rows)\n",
    "                season_writer.writerows(show_rows)\n",
    "\n",
    "        # another loop that sorts the season questions by timestamps\n",
    "        for season in seasons_list:\n",
    "            season_file = os.path.join(show_name, season + \".csv\")\n",
    "            f=pd.read_csv(season_file)           \n",
    "            keep_col = ['date_created','body']\n",
    "            new_f = f[keep_col]\n",
    "            new_f = new_f.sort_values(['date_created'], ascending=[1]) \n",
    "            new_f.to_csv(season_file, index=False)"
   ]
  },
  {
   "cell_type": "markdown",
   "metadata": {
    "collapsed": true
   },
   "source": [
    "### Sampling the datasets with _Supernatural_\n",
    "\n",
    "We text the above processes by extract and doing sample text analysis on one of the shows."
   ]
  },
  {
   "cell_type": "code",
   "execution_count": 2,
   "metadata": {},
   "outputs": [
    {
     "data": {
      "text/html": [
       "<div>\n",
       "<style>\n",
       "    .dataframe thead tr:only-child th {\n",
       "        text-align: right;\n",
       "    }\n",
       "\n",
       "    .dataframe thead th {\n",
       "        text-align: left;\n",
       "    }\n",
       "\n",
       "    .dataframe tbody tr th {\n",
       "        vertical-align: top;\n",
       "    }\n",
       "</style>\n",
       "<table border=\"1\" class=\"dataframe\">\n",
       "  <thead>\n",
       "    <tr style=\"text-align: right;\">\n",
       "      <th></th>\n",
       "      <th>Questions</th>\n",
       "      <th>Timestamp</th>\n",
       "    </tr>\n",
       "  </thead>\n",
       "  <tbody>\n",
       "    <tr>\n",
       "      <th>0</th>\n",
       "      <td>whats the name of that erry song</td>\n",
       "      <td>2010-05-07 01:32:30</td>\n",
       "    </tr>\n",
       "    <tr>\n",
       "      <th>1</th>\n",
       "      <td>what song is playing for 28-29 minutes? when D...</td>\n",
       "      <td>2011-06-24 20:14:19</td>\n",
       "    </tr>\n",
       "    <tr>\n",
       "      <th>2</th>\n",
       "      <td>hi....short guitar intro at 19:50-19:58, when ...</td>\n",
       "      <td>2011-07-15 20:02:29</td>\n",
       "    </tr>\n",
       "    <tr>\n",
       "      <th>3</th>\n",
       "      <td>Who is the guitarist that actually performed \"...</td>\n",
       "      <td>2011-08-24 16:36:40</td>\n",
       "    </tr>\n",
       "    <tr>\n",
       "      <th>4</th>\n",
       "      <td>Anyone know the the music at the very end? Whi...</td>\n",
       "      <td>2011-08-28 20:50:57</td>\n",
       "    </tr>\n",
       "    <tr>\n",
       "      <th>5</th>\n",
       "      <td>I am searching for the song that plays ao 10mi...</td>\n",
       "      <td>2011-09-26 21:29:15</td>\n",
       "    </tr>\n",
       "    <tr>\n",
       "      <th>6</th>\n",
       "      <td>What's the name of ringtone in Deans cellphone???</td>\n",
       "      <td>2011-11-08 06:42:43</td>\n",
       "    </tr>\n",
       "    <tr>\n",
       "      <th>7</th>\n",
       "      <td>are you sure about the name?cause i cann't fin...</td>\n",
       "      <td>2011-11-16 03:50:20</td>\n",
       "    </tr>\n",
       "    <tr>\n",
       "      <th>8</th>\n",
       "      <td>What is the music / song that is playing when ...</td>\n",
       "      <td>2012-01-09 18:51:27</td>\n",
       "    </tr>\n",
       "    <tr>\n",
       "      <th>9</th>\n",
       "      <td>What is the name of the song playing when Cast...</td>\n",
       "      <td>2012-03-24 14:20:06</td>\n",
       "    </tr>\n",
       "  </tbody>\n",
       "</table>\n",
       "</div>"
      ],
      "text/plain": [
       "                                           Questions           Timestamp\n",
       "0                   whats the name of that erry song 2010-05-07 01:32:30\n",
       "1  what song is playing for 28-29 minutes? when D... 2011-06-24 20:14:19\n",
       "2  hi....short guitar intro at 19:50-19:58, when ... 2011-07-15 20:02:29\n",
       "3  Who is the guitarist that actually performed \"... 2011-08-24 16:36:40\n",
       "4  Anyone know the the music at the very end? Whi... 2011-08-28 20:50:57\n",
       "5  I am searching for the song that plays ao 10mi... 2011-09-26 21:29:15\n",
       "6  What's the name of ringtone in Deans cellphone??? 2011-11-08 06:42:43\n",
       "7  are you sure about the name?cause i cann't fin... 2011-11-16 03:50:20\n",
       "8  What is the music / song that is playing when ... 2012-01-09 18:51:27\n",
       "9  What is the name of the song playing when Cast... 2012-03-24 14:20:06"
      ]
     },
     "metadata": {},
     "output_type": "display_data"
    },
    {
     "data": {
      "text/html": [
       "<div>\n",
       "<style>\n",
       "    .dataframe thead tr:only-child th {\n",
       "        text-align: right;\n",
       "    }\n",
       "\n",
       "    .dataframe thead th {\n",
       "        text-align: left;\n",
       "    }\n",
       "\n",
       "    .dataframe tbody tr th {\n",
       "        vertical-align: top;\n",
       "    }\n",
       "</style>\n",
       "<table border=\"1\" class=\"dataframe\">\n",
       "  <thead>\n",
       "    <tr style=\"text-align: right;\">\n",
       "      <th></th>\n",
       "      <th>Questions</th>\n",
       "      <th>Timestamp</th>\n",
       "    </tr>\n",
       "  </thead>\n",
       "  <tbody>\n",
       "    <tr>\n",
       "      <th>413</th>\n",
       "      <td>what's the song in the last scene with castiel...</td>\n",
       "      <td>2017-10-18 21:24:37</td>\n",
       "    </tr>\n",
       "    <tr>\n",
       "      <th>414</th>\n",
       "      <td>What is the song that plays in the background ...</td>\n",
       "      <td>2017-10-20 20:39:14</td>\n",
       "    </tr>\n",
       "    <tr>\n",
       "      <th>415</th>\n",
       "      <td>Who did the last song in this episode</td>\n",
       "      <td>2017-11-10 02:17:53</td>\n",
       "    </tr>\n",
       "    <tr>\n",
       "      <th>416</th>\n",
       "      <td>What was the first song that Athena was listen...</td>\n",
       "      <td>2017-11-17 02:32:57</td>\n",
       "    </tr>\n",
       "    <tr>\n",
       "      <th>417</th>\n",
       "      <td>What was the song playing in the backround whe...</td>\n",
       "      <td>2017-11-18 19:21:33</td>\n",
       "    </tr>\n",
       "    <tr>\n",
       "      <th>418</th>\n",
       "      <td>anyone knows what is playing while James tryin...</td>\n",
       "      <td>2017-11-21 16:53:53</td>\n",
       "    </tr>\n",
       "    <tr>\n",
       "      <th>419</th>\n",
       "      <td>What is the song the girl plays on the guitar ...</td>\n",
       "      <td>2017-12-01 01:45:23</td>\n",
       "    </tr>\n",
       "    <tr>\n",
       "      <th>420</th>\n",
       "      <td>what song plys between breaks</td>\n",
       "      <td>2017-12-08 05:02:20</td>\n",
       "    </tr>\n",
       "    <tr>\n",
       "      <th>421</th>\n",
       "      <td>Since this is a promo, which could depend on w...</td>\n",
       "      <td>2017-12-08 10:41:33</td>\n",
       "    </tr>\n",
       "    <tr>\n",
       "      <th>422</th>\n",
       "      <td>What's the cool jazz that plays at the start, ...</td>\n",
       "      <td>2017-12-08 11:01:24</td>\n",
       "    </tr>\n",
       "  </tbody>\n",
       "</table>\n",
       "</div>"
      ],
      "text/plain": [
       "                                             Questions           Timestamp\n",
       "413  what's the song in the last scene with castiel... 2017-10-18 21:24:37\n",
       "414  What is the song that plays in the background ... 2017-10-20 20:39:14\n",
       "415              Who did the last song in this episode 2017-11-10 02:17:53\n",
       "416  What was the first song that Athena was listen... 2017-11-17 02:32:57\n",
       "417  What was the song playing in the backround whe... 2017-11-18 19:21:33\n",
       "418  anyone knows what is playing while James tryin... 2017-11-21 16:53:53\n",
       "419  What is the song the girl plays on the guitar ... 2017-12-01 01:45:23\n",
       "420                      what song plys between breaks 2017-12-08 05:02:20\n",
       "421  Since this is a promo, which could depend on w... 2017-12-08 10:41:33\n",
       "422  What's the cool jazz that plays at the start, ... 2017-12-08 11:01:24"
      ]
     },
     "metadata": {},
     "output_type": "display_data"
    }
   ],
   "source": [
    "from pprint import pprint\n",
    "import os\n",
    "from IPython.display import display\n",
    "import numpy as np    \n",
    "\n",
    "all_supernatural_questions_file = os.path.join(shows[0], shows[0]) + \"_questions_only.csv\"\n",
    "raw_supernatural_questions_list = []\n",
    "with open(all_supernatural_questions_file, 'r') as file: # This makes sure that file is closed after reading\n",
    "    data = csv.reader(file)\n",
    "    next(data) #  skip the header row\n",
    "    for row in data:\n",
    "        raw_supernatural_questions_list.append((row[0],row[1])) # This puts all the data into a list\n",
    "    \n",
    "# We create a pandas dataframe with the data:\n",
    "data = pd.DataFrame(data=[question[1] for question in raw_supernatural_questions_list], columns=['Questions'])\n",
    "data['Timestamp'] = np.array([pd.to_datetime(question[0],unit='s') for question in raw_supernatural_questions_list])\n",
    "\n",
    "# show a subset of the first 10 and last 10 questions\n",
    "display(data.head(10), data.tail(10))"
   ]
  },
  {
   "cell_type": "markdown",
   "metadata": {},
   "source": [
    "#### Getting sample statistics from the show"
   ]
  },
  {
   "cell_type": "code",
   "execution_count": 3,
   "metadata": {},
   "outputs": [
    {
     "name": "stdout",
     "output_type": "stream",
     "text": [
      "   song    dean     sam episode playing   music     end    know    name  played  anyone   plays \n",
      "    304     154     105     101      81      74      74      70      61      50      50      45 \n"
     ]
    }
   ],
   "source": [
    "import nltk\n",
    "from collections import Counter\n",
    "\n",
    "# get the first TV show in the list of shows\n",
    "show_file = os.path.join(shows[0], shows[0]) + \".csv\"\n",
    "\n",
    "questions_text = ''\n",
    "with open(show_file, 'r') as file: # This makes sure that file is closed after reading\n",
    "    data = csv.reader(file)\n",
    "    next(data) #  skip the header row\n",
    "    for row in data:\n",
    "        questions_text += row[4] # This puts all the data into a list\n",
    "    file.close() \n",
    "\n",
    "# word_tokens_re = re.findall(r'[A-Z][A-Za-z\\'\\-]+', full_corpus)\n",
    "word_tokens_nltk = nltk.word_tokenize(questions_text)\n",
    "lower_case_tokens = [token.lower() for token in word_tokens_nltk if token[0].isalpha()]\n",
    "    \n",
    "stopwords = nltk.corpus.stopwords.words('english')\n",
    "\n",
    "the_lower_content_words = []\n",
    "for token in lower_case_tokens:\n",
    "    if token not in stopwords:\n",
    "        the_lower_content_words.append(token)\n",
    "\n",
    "# tabulated word count\n",
    "word_freqs = nltk.FreqDist(the_lower_content_words)\n",
    "word_freqs.tabulate(12)\n",
    "\n",
    "tokenized_words = [word for word in lower_case_tokens if word not in stopwords]\n",
    "the_word_count = Counter(tokenized_words)\n",
    "top_20 = the_word_count.most_common(20)"
   ]
  },
  {
   "cell_type": "code",
   "execution_count": 4,
   "metadata": {},
   "outputs": [
    {
     "data": {
      "image/png": "[encoded data removed]",
      "text/plain": [
       "<matplotlib.figure.Figure at 0xe7f5b68c>"
      ]
     },
     "metadata": {},
     "output_type": "display_data"
    }
   ],
   "source": [
    "# showing plottings via terminal rather than window popup\n",
    "%matplotlib inline\n",
    "word_freqs.plot(30)"
   ]
  },
  {
   "cell_type": "markdown",
   "metadata": {},
   "source": [
    "#### Sample of extraction of \"time-like\" strings from the datasets using regex"
   ]
  },
  {
   "cell_type": "code",
   "execution_count": 5,
   "metadata": {},
   "outputs": [
    {
     "name": "stdout",
     "output_type": "stream",
     "text": [
      "['08:35', '10:15', '11:30', '11:30', '13:03', '13:04', '13:40', '13:57', '13:57', '14:00', '14:07', '14:40', '14:42', '17:20', '17:36', '19:50', '19:50', '19:58', '23:27', '25:36', '28:50', '29:00', '29:50', '29:50', '30:31', '33:26', '33:27', '33:50', '36:15', '36:50', '37:13', '37:50', '38:00', '38:28', '39:20', '40:00', '40:00', '41:19']\n"
     ]
    }
   ],
   "source": [
    "import re\n",
    "\n",
    "# Extract times\n",
    "times = re.findall(r\"\\d\\d:\\d\\d\", questions_text)\n",
    "times = [str(x) for x in times]\n",
    "times.sort()\n",
    "print(times)"
   ]
  },
  {
   "cell_type": "markdown",
   "metadata": {
    "collapsed": true
   },
   "source": [
    "### [Go to Notebook 2 (Within The Hour)](Analysis of Viewers Searching for Music Heard On Contemporary TV - Within The Hour.ipynb)"
   ]
  },
  {
   "cell_type": "code",
   "execution_count": null,
   "metadata": {
    "collapsed": true
   },
   "outputs": [],
   "source": []
  }
 ],
 "metadata": {
  "kernelspec": {
   "display_name": "Python 3",
   "language": "python",
   "name": "python3"
  },
  "language_info": {
   "codemirror_mode": {
    "name": "ipython",
    "version": 3
   },
   "file_extension": ".py",
   "mimetype": "text/x-python",
   "name": "python",
   "nbconvert_exporter": "python",
   "pygments_lexer": "ipython3",
   "version": "3.6.1"
  }
 },
 "nbformat": 4,
 "nbformat_minor": 2
}
