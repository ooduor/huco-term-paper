{
 "cells": [
  {
   "cell_type": "markdown",
   "metadata": {},
   "source": [
    "## Antony Owino. Final Paper. 13<sup>th</sup> Dec 2017. Notebook 3.\n",
    "\n",
    "#### NB: Assumes the [first notebook (*Analysis of Viewers Searching for Music Heard On Contemporary TV.ipynb* )](Analysis of Viewers Searching for Music Heard On Contemporary TV.ipynb) has been run to generate required files.\n",
    "\n",
    "The use of classical instruments in TV songs and music as observed in the analysis of questions by the viewers. This notebook explores the instruments mentioned to examine the trends and contexts."
   ]
  },
  {
   "cell_type": "code",
   "execution_count": 1,
   "metadata": {
    "collapsed": true
   },
   "outputs": [],
   "source": [
    "import csv, os\n",
    "from itertools import groupby\n",
    "from operator import itemgetter\n",
    "from pprint import pprint\n",
    "\n",
    "current_working_dir = os.getcwd()\n",
    "\n",
    "shows = [\"Supernatural\",\n",
    "         \"Game of Thrones\",\n",
    "         \"The Walking Dead\",\n",
    "         \"Stranger Things\",\n",
    "         \"Grey's Anatomy\",\n",
    "         \"Arrow\",\n",
    "         \"Suits\",\n",
    "         \"The Originals\",\n",
    "         \"Pretty Little Liars\"]\n",
    "\n",
    "def extract_questions_as_text(show_file_path):\n",
    "    '''\n",
    "    This function extracts all the questions in a given file as\n",
    "    a concatenated string.\n",
    "    show_file_path - Path to the file\n",
    "    '''\n",
    "    questions_text = ''\n",
    "    with open(show_file, 'r') as file: # This makes sure that file is closed after reading\n",
    "        data = csv.reader(file)\n",
    "        next(data) #  skip the header row\n",
    "        for row in data:\n",
    "            questions_text += row[1] # This puts all the data into a list\n",
    "        file.close() \n",
    "    return questions_text\n",
    "\n",
    "all_shows_questions_file = os.path.join(current_working_dir, \"all_shows_questions_only.csv\")\n",
    "\n",
    "shows_questions_list = [] # list to hold all questions per show\n",
    "for show_name in shows:\n",
    "    show_file = os.path.join(all_shows_questions_file)\n",
    "    shows_questions_list.append(extract_questions_as_text(show_file))"
   ]
  },
  {
   "cell_type": "markdown",
   "metadata": {},
   "source": [
    "### Dispersion plot of use musical instruments over time [2011 - 2017] on all the TV shows\n",
    "\n",
    "The `shows_questions_list` contains questions from the shows dataset, sorted using timestamp of when the question was posted. The resultant dispersion is derived from a chronological examination of the dataset."
   ]
  },
  {
   "cell_type": "code",
   "execution_count": 2,
   "metadata": {},
   "outputs": [
    {
     "data": {
      "image/png": "[encoded data removed]",
      "text/plain": [
       "<matplotlib.figure.Figure at 0xe83da8cc>"
      ]
     },
     "metadata": {},
     "output_type": "display_data"
    }
   ],
   "source": [
    "import nltk\n",
    "import re\n",
    "from collections import Counter\n",
    "\n",
    "shows_questions_text = ' '.join(shows_questions_list)\n",
    "\n",
    "word_tokens = re.findall(r'[\\w]+', shows_questions_text) # using regez for word\n",
    "#word_tokens = re.findall(r'[A-Z][A-Za-z\\'\\-]+', shows_questions_text) # using regex version 2\n",
    "#word_tokens = nltk.word_tokenize(questions_text) # using nltk\n",
    "#lower_case_tokens = [token.lower() for token in word_tokens if token[0].isalpha()]\n",
    "lower_case_tokens = [token.lower() for token in word_tokens]\n",
    "\n",
    "stopwords = set(nltk.corpus.stopwords.words('english'))\n",
    "# add custom stopwords including character names\n",
    "stopwords.update(('harvey','mike','meredith','louis','oliver','rachel'))\n",
    "\n",
    "# tabulated word coun\n",
    "word_freqs = nltk.FreqDist(lower_case_tokens)\n",
    "\n",
    "tokenized_words = [word for word in lower_case_tokens if word not in stopwords]\n",
    "the_word_count = Counter(tokenized_words)\n",
    "top_words = the_word_count.most_common(30)\n",
    "\n",
    "# This creates a NLTK text object from a list of tokens\n",
    "text_obj = nltk.Text(lower_case_tokens)\n",
    "\n",
    "text_obj.dispersion_plot(['drum', 'cello', 'violin', 'guitar', 'piano'])"
   ]
  },
  {
   "cell_type": "markdown",
   "metadata": {},
   "source": [
    "### Dispersion plot of use sentiment keywords over time [2011 - 2017] on all the TV shows"
   ]
  },
  {
   "cell_type": "code",
   "execution_count": 3,
   "metadata": {},
   "outputs": [
    {
     "data": {
      "image/png": "[encoded data removed]",
      "text/plain": [
       "<matplotlib.figure.Figure at 0xe3eb3d0c>"
      ]
     },
     "metadata": {},
     "output_type": "display_data"
    }
   ],
   "source": [
    "text_obj.dispersion_plot(['enjoy', 'happy', 'sad', 'love', 'like'])"
   ]
  },
  {
   "cell_type": "markdown",
   "metadata": {},
   "source": [
    "### Explore concordances for musical instruments identified by the viewers"
   ]
  },
  {
   "cell_type": "code",
   "execution_count": 4,
   "metadata": {},
   "outputs": [
    {
     "name": "stdout",
     "output_type": "stream",
     "text": [
      ">>>>>>>>>>>>>>>>>>>>>>>>>>>>>>>>>>>>>>>>>>>>>>>>>> SUPERNATURAL <<<<<<<<<<<<<<<<<<<<<<<<<<<<<<<<<<<<<<<<\n",
      "Displaying 5 of 144 matches:\n",
      "th '' please help ! ! ! what 's the the name of the piano song where kristina and owen meet ? what is the son\n",
      "king to the girl outside of the hospital . it was a piano piece . can anyone help me find it ? ? episode 20 i\n",
      "u the way i do '' it was great ! ! ! ! what was the piano song when teddy said to owen that 's it 's ok to ch\n",
      "nobody and looks in alex 's room ? theres some like piano song playing ? ? thanks to who finds it ! i reallyy\n",
      "arts saying `` i do n't wan na lose you '' and this piano song comes on.. what 's the name of that song ? wha\n",
      ">>>>>>>>>>>>>>>>>>>>>>>>>>>>>>>>>>>>>>>>>>>>>>>>>> GAME OF THRONES <<<<<<<<<<<<<<<<<<<<<<<<<<<<<<<<<<<<<<<<\n",
      "Displaying 5 of 144 matches:\n",
      "th '' please help ! ! ! what 's the the name of the piano song where kristina and owen meet ? what is the son\n",
      "king to the girl outside of the hospital . it was a piano piece . can anyone help me find it ? ? episode 20 i\n",
      "u the way i do '' it was great ! ! ! ! what was the piano song when teddy said to owen that 's it 's ok to ch\n",
      "nobody and looks in alex 's room ? theres some like piano song playing ? ? thanks to who finds it ! i reallyy\n",
      "arts saying `` i do n't wan na lose you '' and this piano song comes on.. what 's the name of that song ? wha\n",
      ">>>>>>>>>>>>>>>>>>>>>>>>>>>>>>>>>>>>>>>>>>>>>>>>>> THE WALKING DEAD <<<<<<<<<<<<<<<<<<<<<<<<<<<<<<<<<<<<<<<<\n",
      "Displaying 5 of 144 matches:\n",
      "th '' please help ! ! ! what 's the the name of the piano song where kristina and owen meet ? what is the son\n",
      "king to the girl outside of the hospital . it was a piano piece . can anyone help me find it ? ? episode 20 i\n",
      "u the way i do '' it was great ! ! ! ! what was the piano song when teddy said to owen that 's it 's ok to ch\n",
      "nobody and looks in alex 's room ? theres some like piano song playing ? ? thanks to who finds it ! i reallyy\n",
      "arts saying `` i do n't wan na lose you '' and this piano song comes on.. what 's the name of that song ? wha\n",
      ">>>>>>>>>>>>>>>>>>>>>>>>>>>>>>>>>>>>>>>>>>>>>>>>>> STRANGER THINGS <<<<<<<<<<<<<<<<<<<<<<<<<<<<<<<<<<<<<<<<\n",
      "Displaying 5 of 144 matches:\n",
      "th '' please help ! ! ! what 's the the name of the piano song where kristina and owen meet ? what is the son\n",
      "king to the girl outside of the hospital . it was a piano piece . can anyone help me find it ? ? episode 20 i\n",
      "u the way i do '' it was great ! ! ! ! what was the piano song when teddy said to owen that 's it 's ok to ch\n",
      "nobody and looks in alex 's room ? theres some like piano song playing ? ? thanks to who finds it ! i reallyy\n",
      "arts saying `` i do n't wan na lose you '' and this piano song comes on.. what 's the name of that song ? wha\n",
      ">>>>>>>>>>>>>>>>>>>>>>>>>>>>>>>>>>>>>>>>>>>>>>>>>> GREY'S ANATOMY <<<<<<<<<<<<<<<<<<<<<<<<<<<<<<<<<<<<<<<<\n",
      "Displaying 5 of 144 matches:\n",
      "th '' please help ! ! ! what 's the the name of the piano song where kristina and owen meet ? what is the son\n",
      "king to the girl outside of the hospital . it was a piano piece . can anyone help me find it ? ? episode 20 i\n",
      "u the way i do '' it was great ! ! ! ! what was the piano song when teddy said to owen that 's it 's ok to ch\n",
      "nobody and looks in alex 's room ? theres some like piano song playing ? ? thanks to who finds it ! i reallyy\n",
      "arts saying `` i do n't wan na lose you '' and this piano song comes on.. what 's the name of that song ? wha\n",
      ">>>>>>>>>>>>>>>>>>>>>>>>>>>>>>>>>>>>>>>>>>>>>>>>>> ARROW <<<<<<<<<<<<<<<<<<<<<<<<<<<<<<<<<<<<<<<<\n",
      "Displaying 5 of 144 matches:\n",
      "th '' please help ! ! ! what 's the the name of the piano song where kristina and owen meet ? what is the son\n",
      "king to the girl outside of the hospital . it was a piano piece . can anyone help me find it ? ? episode 20 i\n",
      "u the way i do '' it was great ! ! ! ! what was the piano song when teddy said to owen that 's it 's ok to ch\n",
      "nobody and looks in alex 's room ? theres some like piano song playing ? ? thanks to who finds it ! i reallyy\n",
      "arts saying `` i do n't wan na lose you '' and this piano song comes on.. what 's the name of that song ? wha\n",
      ">>>>>>>>>>>>>>>>>>>>>>>>>>>>>>>>>>>>>>>>>>>>>>>>>> SUITS <<<<<<<<<<<<<<<<<<<<<<<<<<<<<<<<<<<<<<<<\n",
      "Displaying 5 of 144 matches:\n",
      "th '' please help ! ! ! what 's the the name of the piano song where kristina and owen meet ? what is the son\n",
      "king to the girl outside of the hospital . it was a piano piece . can anyone help me find it ? ? episode 20 i\n",
      "u the way i do '' it was great ! ! ! ! what was the piano song when teddy said to owen that 's it 's ok to ch\n",
      "nobody and looks in alex 's room ? theres some like piano song playing ? ? thanks to who finds it ! i reallyy\n",
      "arts saying `` i do n't wan na lose you '' and this piano song comes on.. what 's the name of that song ? wha\n",
      ">>>>>>>>>>>>>>>>>>>>>>>>>>>>>>>>>>>>>>>>>>>>>>>>>> THE ORIGINALS <<<<<<<<<<<<<<<<<<<<<<<<<<<<<<<<<<<<<<<<\n",
      "Displaying 5 of 144 matches:\n",
      "th '' please help ! ! ! what 's the the name of the piano song where kristina and owen meet ? what is the son\n",
      "king to the girl outside of the hospital . it was a piano piece . can anyone help me find it ? ? episode 20 i\n",
      "u the way i do '' it was great ! ! ! ! what was the piano song when teddy said to owen that 's it 's ok to ch\n",
      "nobody and looks in alex 's room ? theres some like piano song playing ? ? thanks to who finds it ! i reallyy\n",
      "arts saying `` i do n't wan na lose you '' and this piano song comes on.. what 's the name of that song ? wha\n",
      ">>>>>>>>>>>>>>>>>>>>>>>>>>>>>>>>>>>>>>>>>>>>>>>>>> PRETTY LITTLE LIARS <<<<<<<<<<<<<<<<<<<<<<<<<<<<<<<<<<<<<<<<\n",
      "Displaying 5 of 144 matches:\n",
      "th '' please help ! ! ! what 's the the name of the piano song where kristina and owen meet ? what is the son\n",
      "king to the girl outside of the hospital . it was a piano piece . can anyone help me find it ? ? episode 20 i\n",
      "u the way i do '' it was great ! ! ! ! what was the piano song when teddy said to owen that 's it 's ok to ch\n",
      "nobody and looks in alex 's room ? theres some like piano song playing ? ? thanks to who finds it ! i reallyy\n",
      "arts saying `` i do n't wan na lose you '' and this piano song comes on.. what 's the name of that song ? wha\n"
     ]
    }
   ],
   "source": [
    "for index, show_questions in enumerate(shows_questions_list):\n",
    "    #word_tokens = re.findall(r'[\\w]+', show_questions) # using regez for word\n",
    "    #word_tokens = re.findall(r'[A-Z][A-Za-z\\'\\-]+', show_questions) # using regex version 2\n",
    "    word_tokens = nltk.word_tokenize(show_questions) # using nltk\n",
    "\n",
    "    lower_case_tokens = [token.lower() for token in word_tokens]\n",
    "    print(\">\"*50 + ' {} '.format(shows[index].upper()) + \"<\"*40)\n",
    "    \n",
    "    # This creates a NLTK text object from a list of tokens\n",
    "    text_obj = nltk.Text(lower_case_tokens)\n",
    "    text_obj.concordance(\"piano\", width=110, lines=5)"
   ]
  },
  {
   "cell_type": "markdown",
   "metadata": {},
   "source": [
    "#### Comon context of the _piano_ as observed in the dataset"
   ]
  },
  {
   "cell_type": "code",
   "execution_count": 5,
   "metadata": {},
   "outputs": [
    {
     "name": "stdout",
     "output_type": "stream",
     "text": [
      "============================== COMMON CONTEXTS ==============================\n",
      "the_song the_melody\n",
      "the_song the_theme the_? the_piece the_that the_music\n",
      "the_music a_playing the_instrumental the_song the_track (_) a_song\n",
      "a_piece the_in the_when\n"
     ]
    }
   ],
   "source": [
    "# This creates a NLTK text object from a list of tokens\n",
    "text_obj = nltk.Text(lower_case_tokens)\n",
    "\n",
    "print('='*30, 'COMMON CONTEXTS', '='*30)\n",
    "text_obj.common_contexts(['sad', 'piano'], num=20)\n",
    "text_obj.common_contexts(['violin', 'piano'], num=20)\n",
    "text_obj.common_contexts(['guitar', 'piano'], num=20)"
   ]
  },
  {
   "cell_type": "markdown",
   "metadata": {
    "collapsed": true
   },
   "source": [
    "#### Collocations observed in the dataset"
   ]
  },
  {
   "cell_type": "code",
   "execution_count": 6,
   "metadata": {},
   "outputs": [
    {
     "name": "stdout",
     "output_type": "stream",
     "text": [
      "============================== COLLOCATIONS ==============================\n",
      "anyone know; song playing; n't find; song played; anybody know; sounds\n",
      "like; please help; something like; anyone knows; walking dead; would\n",
      "like; background music; last song; cant find; please tell; greys\n",
      "anatomy; music playing; next episode; n't seem; last scene\n",
      "============================== TOP TERMS ==============================\n",
      "song -> 30951\n",
      "episode -> 8361\n",
      "playing -> 7956\n",
      "know -> 6669\n",
      "name -> 6300\n",
      "anyone -> 5220\n",
      "music -> 4986\n",
      "end -> 4779\n",
      "played -> 4590\n",
      "find -> 3771\n",
      "plays -> 3627\n",
      "please -> 2862\n",
      "season -> 2565\n",
      "scene -> 2511\n",
      "talking -> 2466\n",
      "background -> 2340\n",
      "like -> 2268\n",
      "help -> 1746\n",
      "one -> 1746\n",
      "beginning -> 1593\n",
      "whats -> 1584\n",
      "tell -> 1512\n",
      "piano -> 1422\n",
      "dean -> 1404\n",
      "promo -> 1332\n",
      "starts -> 1323\n",
      "thanks -> 1305\n",
      "last -> 1269\n",
      "right -> 1269\n",
      "instrumental -> 1269\n"
     ]
    }
   ],
   "source": [
    "# text_obj.similar('minute', num=20)\n",
    "#print('===========================LIKE')\n",
    "\n",
    "print('='*30, 'COLLOCATIONS', '='*30)\n",
    "text_obj.collocations(num=20, window_size=2)\n",
    "\n",
    "print('='*30, 'TOP TERMS', '='*30)\n",
    "for key, term in top_words:\n",
    "    print(\"{} -> {}\".format(key, term))"
   ]
  },
  {
   "cell_type": "markdown",
   "metadata": {},
   "source": [
    "### [Go back to Notebook 2 (Within the hour)](Analysis of Viewers Searching for Music Heard On Contemporary TV - Within The Hour.ipynb)\n",
    "\n",
    "### [Go to Notebook 4 (Sentiment)](Analysis of Viewers Searching for Music Heard On Contemporary TV - Sentiment.ipynb)"
   ]
  },
  {
   "cell_type": "code",
   "execution_count": null,
   "metadata": {
    "collapsed": true
   },
   "outputs": [],
   "source": []
  }
 ],
 "metadata": {
  "kernelspec": {
   "display_name": "Python 3",
   "language": "python",
   "name": "python3"
  },
  "language_info": {
   "codemirror_mode": {
    "name": "ipython",
    "version": 3
   },
   "file_extension": ".py",
   "mimetype": "text/x-python",
   "name": "python",
   "nbconvert_exporter": "python",
   "pygments_lexer": "ipython3",
   "version": "3.6.1"
  }
 },
 "nbformat": 4,
 "nbformat_minor": 2
}
